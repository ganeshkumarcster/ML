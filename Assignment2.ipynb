{
 "cells": [
  {
   "cell_type": "code",
   "execution_count": null,
   "metadata": {},
   "outputs": [],
   "source": [
    "#Write a Python Program to implement your own myreduce() function which works exactly like\n",
    "#Python's built-in function reduce()"
   ]
  },
  {
   "cell_type": "code",
   "execution_count": 33,
   "metadata": {},
   "outputs": [
    {
     "name": "stdout",
     "output_type": "stream",
     "text": [
      "47\n"
     ]
    },
    {
     "data": {
      "text/plain": [
       "47"
      ]
     },
     "execution_count": 33,
     "metadata": {},
     "output_type": "execute_result"
    }
   ],
   "source": [
    "def maxfind(a):\n",
    "    max = a[0]\n",
    "    for i in range(len(a)):\n",
    "        if max < a[i]:\n",
    "            max = a[i]\n",
    "    return max\n",
    "lst =[47,11,42,13]\n",
    "res = maxfind(lst)\n",
    "print(res)\n",
    "\n",
    "reduce(lambda a,b:a if a > b else b,lst)"
   ]
  },
  {
   "cell_type": "code",
   "execution_count": null,
   "metadata": {},
   "outputs": [],
   "source": [
    "#Write a Python program to implement your own myfilter() function which works exactly like\n",
    "#Python's built-in function filter()"
   ]
  },
  {
   "cell_type": "code",
   "execution_count": 43,
   "metadata": {},
   "outputs": [],
   "source": [
    "def even_check(num):\n",
    "    if num%2 ==0:\n",
    "        return True\n",
    "    \n",
    "def filter_check(num):\n",
    "    res=[]\n",
    "    for i in range(len(num)):\n",
    "        if num[i]%2 ==0:\n",
    "            res.append(num[i])\n",
    "    return res\n"
   ]
  },
  {
   "cell_type": "code",
   "execution_count": 44,
   "metadata": {},
   "outputs": [
    {
     "name": "stdout",
     "output_type": "stream",
     "text": [
      "[2, 4, 6, 8]\n",
      "[2, 4, 6, 8]\n"
     ]
    }
   ],
   "source": [
    "lst =[1,2,3,4,5,6,7,8]\n",
    "\n",
    "result=filter_check(lst)\n",
    "print(result)\n",
    "print(list(filter(even_check,lst)))"
   ]
  },
  {
   "cell_type": "code",
   "execution_count": 63,
   "metadata": {},
   "outputs": [
    {
     "data": {
      "text/plain": [
       "['A', 'C', 'A', 'D', 'G', 'I', 'L']"
      ]
     },
     "execution_count": 63,
     "metadata": {},
     "output_type": "execute_result"
    }
   ],
   "source": [
    "num = [0,2,0,3,6,8,11]\n",
    "[chr(ord('A')+i) for i in num]"
   ]
  },
  {
   "cell_type": "code",
   "execution_count": 105,
   "metadata": {},
   "outputs": [
    {
     "data": {
      "text/plain": [
       "['x', 'y', 'z', 'xx', 'yy', 'zz', 'xxx', 'yyy', 'zzz']"
      ]
     },
     "execution_count": 105,
     "metadata": {},
     "output_type": "execute_result"
    }
   ],
   "source": [
    "lst=['x','y','z']\n",
    "[j*i for i in range(len(lst)+1) for j in lst if j*i > ' ' ]\n"
   ]
  },
  {
   "cell_type": "code",
   "execution_count": 107,
   "metadata": {},
   "outputs": [
    {
     "data": {
      "text/plain": [
       "['x', 'xx', 'xxx', 'xxxx', 'y', 'yy', 'yyy', 'yyyy', 'z', 'zz', 'zzz', 'zzzz']"
      ]
     },
     "execution_count": 107,
     "metadata": {},
     "output_type": "execute_result"
    }
   ],
   "source": [
    "lst=['x','y','z']\n",
    "[j*i for j in lst for i in range(len(lst)+2) if j*i > ' ' ]"
   ]
  },
  {
   "cell_type": "code",
   "execution_count": 110,
   "metadata": {},
   "outputs": [],
   "source": [
    "#longesgt word\n",
    "def lngst(lst):\n",
    "    lngword=''\n",
    "    for word in lst:\n",
    "        if len(word) > len(lngword):\n",
    "            lngword=word\n",
    "    return lngword"
   ]
  },
  {
   "cell_type": "code",
   "execution_count": 113,
   "metadata": {},
   "outputs": [
    {
     "data": {
      "text/plain": [
       "'thirtyone'"
      ]
     },
     "execution_count": 113,
     "metadata": {},
     "output_type": "execute_result"
    }
   ],
   "source": [
    "res=lngst(['one','three','eleven','thirteen','thirtyone'])\n",
    "res"
   ]
  },
  {
   "cell_type": "code",
   "execution_count": 118,
   "metadata": {},
   "outputs": [],
   "source": [
    "class area:\n",
    "    def __init__(self,a,b,c):\n",
    "        self.a = a\n",
    "        self.b = b\n",
    "        self.c = c\n",
    "class triangle(area):\n",
    "    def __init__(self,s,*arg):\n",
    "        super(triangle, self).__init__(*arg)\n",
    "        self.s = s\n",
    "    \n",
    "    def aot(self):\n",
    "        return ((self.s-self.a)*(self.s-self.b)*(self.s-self.c))**0.5\n",
    "\n"
   ]
  },
  {
   "cell_type": "code",
   "execution_count": 119,
   "metadata": {},
   "outputs": [
    {
     "name": "stdout",
     "output_type": "stream",
     "text": [
      "(1.4998798865218462e-16+2.449489742783178j)\n"
     ]
    }
   ],
   "source": [
    "#s*(s-a)*(s-b)*(s-c)) ** 0.5\n",
    "t = triangle(1,2,3,4)\n",
    "res = t.aot()\n",
    "print(res)\n"
   ]
  },
  {
   "cell_type": "code",
   "execution_count": 127,
   "metadata": {},
   "outputs": [],
   "source": [
    "#  filter_long_words() \n",
    "def lngstwrd(lst,n):\n",
    "    lngword=[]\n",
    "    for word in lst:\n",
    "        if len(word) > n:\n",
    "#            yield word\n",
    "            lngword.append(word)\n",
    "                \n",
    "    return lngword"
   ]
  },
  {
   "cell_type": "code",
   "execution_count": 128,
   "metadata": {},
   "outputs": [
    {
     "name": "stdout",
     "output_type": "stream",
     "text": [
      "['eleven', 'thirteen', 'thirtyone']\n"
     ]
    }
   ],
   "source": [
    "res=lngstwrd(['one','three','eleven','thirteen','thirtyone'],5)\n",
    "print(res)\n",
    "#print(next(iter(res)))"
   ]
  },
  {
   "cell_type": "code",
   "execution_count": 151,
   "metadata": {},
   "outputs": [
    {
     "data": {
      "text/plain": [
       "[3, 5, 6, 8, 9]"
      ]
     },
     "execution_count": 151,
     "metadata": {},
     "output_type": "execute_result"
    }
   ],
   "source": [
    "#  maps  list of words into a list of integers\n",
    "temp=['oto','three','eleven','thirteen','thirtyone']\n",
    "tem=['one','two','three']\n",
    "list(map(lambda x : len(x),temp))"
   ]
  },
  {
   "cell_type": "code",
   "execution_count": 161,
   "metadata": {},
   "outputs": [],
   "source": [
    "# Function which takes a char and turns True if it is a vowel, False otherwise\n",
    "def chkv(c):\n",
    "    for x in ['a','e','i','o','u']:\n",
    "        if x == c:\n",
    "            return True\n",
    "        else:\n",
    "            return False"
   ]
  },
  {
   "cell_type": "code",
   "execution_count": 160,
   "metadata": {},
   "outputs": [
    {
     "data": {
      "text/plain": [
       "False"
      ]
     },
     "execution_count": 160,
     "metadata": {},
     "output_type": "execute_result"
    }
   ],
   "source": [
    "chr='b'\n",
    "chkv(chr)"
   ]
  },
  {
   "cell_type": "code",
   "execution_count": null,
   "metadata": {
    "collapsed": true
   },
   "outputs": [],
   "source": []
  }
 ],
 "metadata": {
  "kernelspec": {
   "display_name": "Python 3",
   "language": "python",
   "name": "python3"
  },
  "language_info": {
   "codemirror_mode": {
    "name": "ipython",
    "version": 3
   },
   "file_extension": ".py",
   "mimetype": "text/x-python",
   "name": "python",
   "nbconvert_exporter": "python",
   "pygments_lexer": "ipython3",
   "version": "3.7.1"
  }
 },
 "nbformat": 4,
 "nbformat_minor": 2
}
